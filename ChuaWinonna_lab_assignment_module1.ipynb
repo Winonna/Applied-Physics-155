{
 "cells": [
  {
   "cell_type": "markdown",
   "metadata": {
    "id": "G0BcK0H_G1Iu"
   },
   "source": [
    "# **AP155 Lab Assignment**\n",
    "## Module 1: Integrals and Derivatives\n",
    "\n",
    "_Instructions_: Answer each problem as completely as you can. Discuss **all** your answers as clearly and concisely as possible.\n",
    "\n",
    "_Scoring Criteria_: 50% - *correctness of code*; 50% - *discussion of the code and results*. Maximum score is **100 points**.\n",
    "\n",
    "\n"
   ]
  },
  {
   "cell_type": "markdown",
   "metadata": {
    "id": "PeHZ9kP8JaVR"
   },
   "source": [
    "### Student Information\n",
    "\n",
    "_Full Name_: Chua, Winonna Kylie\\\n",
    "_Student No._: 2022-09120\\\n",
    "_Section_: THV-TX-2"
   ]
  },
  {
   "cell_type": "markdown",
   "metadata": {
    "id": "Hc183co-J4eI"
   },
   "source": [
    "### Submission Information\n",
    "\n",
    "_Date and Time Submitted (most recent upload)_: September 20 (6:30 A.M.)\n",
    "\n",
    "**HONOR PLEDGE** I affirm that I have upheld the highest principles of honesty and integrity in my academic work and that this lab assignment is my own work.\n",
    "\n",
    "**Sign here with your full name: Winonna Kylie C. Chua**"
   ]
  },
  {
   "cell_type": "markdown",
   "metadata": {
    "id": "X1UGsRpW-eQs"
   },
   "source": [
    "### Grading Information (c/o Lab Instructor)\n",
    "\n",
    "TOTAL SCORE: **XX**/100\n",
    "\n",
    "Score breakdown:\n",
    "* Problem 1 - XX/30\n",
    "* Problem 2 - XX/30\n",
    "* Problem 3 - XX/40\n",
    "\n",
    "_Date and Time Scored (MM/DD/YYYY HH:MM AM/PM):_"
   ]
  },
  {
   "cell_type": "markdown",
   "metadata": {
    "id": "LxWuqiCFMsEh"
   },
   "source": [
    "### PROBLEM 1\n",
    "**Integration using the trapezoidal rule and Simpson's rule**\n",
    "\n",
    "Calculate the integral of the function $ 2x^4 + 3x^2 + 4x + 5$ from $x=0$ to $x=5$.\n",
    "\n",
    "1. Do the numerical calculation using the trapezoidal rule with 10, 100, and 1,000 slices. Describe each step of the calculation clearly and concisely. *(10 pts.)*\n",
    "\n",
    "2. What are the percentage errors of your answers in (1)? *(10 pts.)*\n",
    "\n",
    "3. Repeat the calculation using Simpson's rule with 10, 100, and 1,000 slices. Describe each step of the calculation clearly and concisely. *(5 pts.)*\n",
    "\n",
    "4. What are the percentage errors of your answers in (3)? How do they compare with the results from (1) for the same number of slices? *(5 pts.)*"
   ]
  },
  {
   "cell_type": "code",
   "execution_count": 75,
   "metadata": {},
   "outputs": [
    {
     "name": "stdout",
     "output_type": "stream",
     "text": [
      "Using Trapezoidal Rule:\n",
      "Number of slices (N)          Result                   Percent error         \n",
      "        10                  1471.4375                1.478448275862069     \n",
      "       100              1450.2145812500003         0.014798706896569988    \n",
      "       1000             1450.0021458331234        0.00014798849127240326   \n",
      "From (1), the percentage errors of my answers are 1.478448275862069 for 10 slices, 0.014798706896569988 for 100 slices, and 0.00014798849127240326 for 1000 slices.\n",
      "\n",
      "\n",
      "Using Simpson's Rule:\n",
      "Number of slices (N)          Result                   Percent error         \n",
      "      10                1450.0833333333333          0.005747126436776382\n",
      "      100               1450.0000083333337          5.747126657485657e-07\n",
      "     1000                1450.000000000834          5.75176994155707e-11\n",
      "From (3), the percentage errors of my answers are 0.005747126436776382 for 10 slices, 5.747126657485657e-07 for 100 slices, and 5.75176994155707e-11 for 1000 slices. For the same number of slices, the percentage errors in (3) are much smaller than the percentage errors in (1).\n"
     ]
    }
   ],
   "source": [
    "#1 (Using Trapezoidal Rule)\n",
    "import numpy as np\n",
    "def f(x):\n",
    "    return 2*x**4 + 3*x**2 + 4*x + 5\n",
    "N_arr = np.array([10, 100, 1000])    # Array of the number of slices (N)\n",
    "a = 0.0     # lower bound of the integral\n",
    "b = 5.0     # Upper bound of the integral\n",
    "exact_t = 1450    # Expected value for integral of function \n",
    "\n",
    "def trap(N, a, b):   # Function to implement Trapezoidal Rule\n",
    "    h = (b-a)/N     # Width of the trapezoids \n",
    "\n",
    "    s = 0.5*f(a) + 0.5*f(b)     # Initial value of s\n",
    "    for k in range(1,N):     # Summation in loop over slices k from 1 to N\n",
    "        s += f(a+k*h)\n",
    "    return(s*h)\n",
    "\n",
    "t_arr = np.zeros(len(N_arr))     # Array with empty compartments (same dimension with N_arr) to place the values of integral calculated using Trapezoidal Rule\n",
    "t_pct_arr = np.zeros(len(N_arr))    # Array with empty compartments (same dimension with N_arr) to place the values of percent error\n",
    "\n",
    "for i in range(len(N_arr)):\n",
    "    t_arr[i] = trap(N_arr[i], a, b)     # Values of integral using Trapezoidal Rule\n",
    "    t_pct_arr[i] = ((t_arr[i] - exact_t)/exact_t)*100    # Values of percent error\n",
    "print(\"Using Trapezoidal Rule:\")\n",
    "print(f\"{\"Number of slices (N)\":^15} {\"Result\":^25} {\"Percent error\":^30}\")\n",
    "for i in range(len(N_arr)):    \n",
    "    print(f\"{N_arr[i]:^18} {t_arr[i]:^28} {t_pct_arr[i]:^27}\")   \n",
    "\n",
    "#2\n",
    "print (\"From (1), the percentage errors of my answers are\", t_pct_arr[0] ,\"for 10 slices,\",  t_pct_arr[1] ,\"for 100 slices, and\", t_pct_arr[2], \"for 1000 slices.\")\n",
    "print(\"\\n\")\n",
    "\n",
    "#3 (Using Simpson's Rule)\n",
    "import numpy as np\n",
    "def f(x):\n",
    "    return 2*x**4 + 3*x**2 + 4*x + 5\n",
    "def integ_simp(N, a, b):    # Function to implement Simpson's Rule  \n",
    "    h = (b-a)/N\n",
    "\n",
    "    s = f(a) + f(b)    # Initial value of s\n",
    "    for k in range(1,N,2):    # Summation in loop over odd values of k\n",
    "        s += 4*f(a+k*h)\n",
    "    for k in range(2,N,2):    # Summation in loop over even values of k\n",
    "        s += 2*f(a+k*h)\n",
    "    s = s*(1./3*h)\n",
    "    return(s)\n",
    "N_arr = np.array([10, 100, 1000])     # Array of the number of slices (N)\n",
    "a = 0.0    # Lower bound of the integral\n",
    "b = 5.0    # Upper bound of the integral\n",
    "s_arr = np.zeros(len(N_arr))     # Array with empty compartments (same dimension with N_arr) to place the values of integral calculated through Simpson's Rule\n",
    "pct_arr = np.zeros(len(N_arr))     # Array with empty compartments (same dimension with N_arr) to place the values of percent error\n",
    "exact_s = 1450    # Expected value for integral of function\n",
    "for i in np.arange(len(N_arr)):\n",
    "    s_arr[i] = integ_simp(N_arr[i], a, b)   # Values of integral using Simpson's Rule\n",
    "    pct_arr[i] = ((s_arr[i] - exact_s)/exact_s)*100   # Values of percent error\n",
    "print(\"Using Simpson's Rule:\")\n",
    "print(f\"{\"Number of slices (N)\":^15} {\"Result\":^25} {\"Percent error\":^30}\")\n",
    "for i in np.arange(len(N_arr)):\n",
    "    print(f\"{N_arr[i]:^15} {s_arr[i]:^35} {pct_arr[i]:^15}\")\n",
    "#4\n",
    "print(\"From (3), the percentage errors of my answers are\", pct_arr[0], \"for 10 slices,\", pct_arr[1], \"for 100 slices, and\", pct_arr[2], \"for 1000 slices. For the same number of slices, the percentage errors in (3) are much smaller than the percentage errors in (1).\")"
   ]
  },
  {
   "cell_type": "markdown",
   "metadata": {
    "id": "m2a6sg90R-NX"
   },
   "source": [
    "### PROBLEM 2\n",
    "\n",
    "**Integration using Gaussian quadrature**\n",
    "\n",
    "Calculate the integral from Problem 1 using the Gaussian quadrature method: $ 2x^4 + 3x^2 + 4x + 5$ from $x=0$ to $x=5$.\n",
    "\n",
    "1. Define the function $\\tt gaussxw$ from Appendix E of the Newman text (and run the cell). *(10 pts.)*\n",
    "\n",
    "2. Calculate the integral using the $\\tt gaussxw$ function in (1) and number of slices $N = 3$. Describe each step in the calculation clearly and concisely. *(20 pts.)*"
   ]
  },
  {
   "cell_type": "code",
   "execution_count": 140,
   "metadata": {
    "id": "YO_PDJ4VIVs5",
    "scrolled": true
   },
   "outputs": [
    {
     "name": "stdout",
     "output_type": "stream",
     "text": [
      "Using Gaussian quadrature, the integral is approximately 1450.000000000002 .\n"
     ]
    }
   ],
   "source": [
    "#1\n",
    "from numpy import ones, copy, cos, tan, pi, linspace\n",
    "\n",
    "def gaussxw(N): # Appendix E from Newman\n",
    "    # Initial approximation to roots of the Legendre polynomial\n",
    "    a = linspace(3, 4*N-1, N)/(4*N+2)\n",
    "    x = cos(pi*a+1/(8*N*N*tan(a)))\n",
    "    # Find roots using Newton's method\n",
    "    epsilon = 1e-15\n",
    "    delta = 1.0\n",
    "    while delta>epsilon:\n",
    "        p0 = ones(N, float)\n",
    "        p1 = copy(x)\n",
    "        for k in range(1,N):\n",
    "            p0, p1 = p1, (((2*k+1))*x*p1-k*p0)/(k+1)\n",
    "        dp = (N+1)*(p0-x*p1)/(1-x*x)\n",
    "        dx = p1/dp\n",
    "        x -= dx\n",
    "        delta = max(abs(dx))\n",
    "\n",
    "    # Calculate the weights\n",
    "    w = 2*(N+1)*(N+1)/(N*N*(1-x*x)*dp*dp)\n",
    "\n",
    "    return x, w\n",
    "\n",
    "#2 \n",
    "def f(x):\n",
    "    return 2*x**4 + 3*x**2 + 4*x + 5\n",
    "\n",
    "N = 3   # Number of slices\n",
    "a = 0.0   # Lower bound of integral\n",
    "b = 5.0   # Upper bound of integral\n",
    "\n",
    "# Calculate the sample points and weights, then map them to the required integration domain\n",
    "x, w = gaussxw(N)\n",
    "xp = 0.5*(b-a)*x + 0.5*(b+a)\n",
    "wp = 0.5*(b-a)*w\n",
    "\n",
    "# Perform the integration\n",
    "s = 0.0\n",
    "for k in range(N):\n",
    "    s += wp[k]*f(xp[k])\n",
    "\n",
    "print(\"Using Gaussian quadrature, the integral is approximately\", s,\".\")"
   ]
  },
  {
   "cell_type": "markdown",
   "metadata": {
    "id": "HceOjNu-VfN9"
   },
   "source": [
    "### PROBLEM 3\n",
    "\n",
    "**Physics Application: Anharmonic Oscillator**\n",
    "\n",
    "_Refer to Exercise 5.10 of the Newman text._ Consider an anharmonic oscillator with potential $V(x)$ symmetric about $x = 0$. Let us set our anharmonic oscillator going with amplitude $a$. That is, at $t = 0$ we release it from rest at position $x = a$ and it swings back towards the origin. Then at $t = 0$ we have $dx/dt = 0$ and the equation for its total energy becomes $E = V(a)$, i.e., the total energy of the particle is given in terms of the amplitude.\n",
    "\n",
    "When the particle reaches the origin for the first time, it has gone through one quarter of a period of the oscillator. The period $T$ is given by: $$ T = \\sqrt{8m} \\int_0^a \\frac{dx}{\\sqrt{V(a)-V(x)}}. $$\n",
    "\n",
    "1. Suppose the potential is $V(x) = x^4$ and the mass of the particle is $m = 1$. Write a Python function that calculates the period of the oscillator for given amplitude a using Gaussian quadrature with $N = 20$ points. Describe each step clearly and concisely. *(20 pts.)*\n",
    "\n",
    "2. Use your function to make a graph of the period for amplitudes ranging from $a = 0$ to $a = 2$. Describe the behavior you find and explain these results clearly and concisely. *(20 pts.)*"
   ]
  },
  {
   "cell_type": "code",
   "execution_count": 142,
   "metadata": {
    "id": "p28JF-OQYock"
   },
   "outputs": [
    {
     "data": {
      "image/png": "[encoded data removed]",
      "text/plain": [
       "<Figure size 640x480 with 1 Axes>"
      ]
     },
     "metadata": {},
     "output_type": "display_data"
    },
    {
     "name": "stdout",
     "output_type": "stream",
     "text": [
      "The behavior of the graph resembles the graph of a function f(x)=1/(x^2) but only considering the path to positive infinity. As we observe from the graph, as the amplitude increases, the value for the period approaches to zero.\n"
     ]
    }
   ],
   "source": [
    "import numpy as np\n",
    "from numpy import ones, copy, cos, tan, pi, linspace\n",
    "import math\n",
    "from math import sqrt\n",
    "import matplotlib.pyplot as plt\n",
    "\n",
    "#1\n",
    "def gaussxw(N):   # Same as what was done in (2)\n",
    "    # Initial approximation to roots of the Legendre polynomial\n",
    "    a = linspace(3, 4*N-1, N)/(4*N+2)\n",
    "    x = cos(pi*a+1/(8*N*N*tan(a)))\n",
    "    # Find roots using Newton's method\n",
    "    epsilon = 1e-15\n",
    "    delta = 1.0\n",
    "    while delta>epsilon:\n",
    "        p0 = ones(N, float)\n",
    "        p1 = copy(x)\n",
    "        for k in range(1,N):\n",
    "            p0, p1 = p1, (((2*k+1))*x*p1-k*p0)/(k+1)\n",
    "        dp = (N+1)*(p0-x*p1)/(1-x*x)\n",
    "        dx = p1/dp\n",
    "        x -= dx\n",
    "        delta = max(abs(dx))\n",
    "\n",
    "    # Calculate the weights\n",
    "    w = 2*(N+1)*(N+1)/(N*N*(1-x*x)*dp*dp)\n",
    "\n",
    "    return x, w\n",
    "\n",
    "def V(x): # Defining the potential function\n",
    "    return x**4\n",
    "\n",
    "def integ(x, a): # Defining the integral function\n",
    "    return 1/sqrt(V(a)-V(x))   # If a and x are equal, this function would be undefined\n",
    "\n",
    "def T(a, N):    # Defining the period function\n",
    "# Calculate the sample points and weights, then map them to the required integration domain\n",
    "    x, w = gaussxw(N)\n",
    "    xp = 0.5*(a)*x + 0.5*(a)\n",
    "    wp = 0.5*(a)*w\n",
    "\n",
    "# Perform the integration\n",
    "    s = 0.0\n",
    "    for k in range(1,N):\n",
    "        s += wp[k]*integ(xp[k], a)\n",
    "    return sqrt(8*m)*s\n",
    "\n",
    "N = 20   # Number of slices\n",
    "a = 2.0   # Upper bound of integral\n",
    "m = 1.0   # Mass of the particle\n",
    "\n",
    "# PLotting period (T) vs. amplitude (a) graph\n",
    "plot = 1000   # This is the number of plotted points\n",
    "a_plot = np.zeros(plot)   # This is the x-axis\n",
    "T_plot = np.zeros(plot)   # This is the y-axis\n",
    "\n",
    "for i in range(plot):\n",
    "    a_plot[i] = a/plot * (i+1)\n",
    "for i in range(plot):\n",
    "    T_plot[i] = T(a_plot[i], N)\n",
    "\n",
    "plt.plot(a_plot, T_plot)\n",
    "plt.title(\"Amplitude vs. period graph\")\n",
    "plt.xlabel(\"Amplitude (a)\")\n",
    "plt.ylabel(\"Period (T)\")\n",
    "plt.grid()\n",
    "plt.show()\n",
    "\n",
    "print(\"The behavior of the graph resembles the graph of a function f(x)=1/(x^2) but only considering the path to positive infinity. As we observe from the graph, as the amplitude increases, the value for the period approaches to zero.\")"
   ]
  },
  {
   "cell_type": "code",
   "execution_count": null,
   "metadata": {},
   "outputs": [],
   "source": []
  }
 ],
 "metadata": {
  "colab": {
   "provenance": []
  },
  "kernelspec": {
   "display_name": "Python 3 (ipykernel)",
   "language": "python",
   "name": "python3"
  },
  "language_info": {
   "codemirror_mode": {
    "name": "ipython",
    "version": 3
   },
   "file_extension": ".py",
   "mimetype": "text/x-python",
   "name": "python",
   "nbconvert_exporter": "python",
   "pygments_lexer": "ipython3",
   "version": "3.12.4"
  }
 },
 "nbformat": 4,
 "nbformat_minor": 4
}
