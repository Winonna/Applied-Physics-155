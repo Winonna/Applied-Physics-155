{
 "cells": [
  {
   "cell_type": "markdown",
   "metadata": {
    "id": "G0BcK0H_G1Iu"
   },
   "source": [
    "# **AP155 Lab Assignment**\n",
    "## Module 2: Solution of Linear and Nonlinear Equations\n",
    "\n",
    "_Instructions_: Answer each problem as completely as you can. Discuss **all** your answers as clearly and concisely as possible.\n",
    "\n",
    "_Scoring Criteria_: 50% - *correctness of code*; 50% - *discussion of the code and results*. Maximum score is **100 points**.\n",
    "\n"
   ]
  },
  {
   "cell_type": "markdown",
   "metadata": {
    "id": "PeHZ9kP8JaVR"
   },
   "source": [
    "### Student Information\n",
    "\n",
    "_Full Name_: Chua, Winonna Kylie\\\n",
    "_Student No._: 2022-09120\\\n",
    "_Section_: THV-TX-2"
   ]
  },
  {
   "cell_type": "markdown",
   "metadata": {
    "id": "Hc183co-J4eI"
   },
   "source": [
    "### Submission Information\n",
    "\n",
    "_Date and Time Submitted (most recent upload)_: October 5, 2024 | 11:50 P.M.\n",
    "\n",
    "**HONOR PLEDGE** I affirm that I have upheld the highest principles of honesty and integrity in my academic work and that this lab assignment is my own work.\n",
    "\n",
    "**Sign here with your full name: Winonna Kylie C. Chua** "
   ]
  },
  {
   "cell_type": "markdown",
   "metadata": {
    "id": "4LUwfsfMBmvd"
   },
   "source": [
    "### Grading Information (c/o Lab Instructor)\n",
    "\n",
    "TOTAL SCORE: <font color='red'>**90/100**</font>\n",
    "\n",
    "Score breakdown:\n",
    "* Problem 1 - <font color='red'>**27/30**</font>\n",
    "* Problem 2 - <font color='red'>**27/30**</font>\n",
    "* Problem 3 - <font color='red'>**36/40**</font>\n",
    "\n",
    "<font color='red'>**signed GC Belinario**</font>"
   ]
  },
  {
   "cell_type": "markdown",
   "metadata": {
    "id": "kBX9EyMLOnXj"
   },
   "source": [
    "### PROBLEM 1\n",
    "\n",
    "**Solve for eigenvalues and eigenvectors of a symmetric matrix**\n",
    "\n",
    "1. Use numpy's $\\tt linalg$ package to find the eigenvalues and eigenvectors of the ff. symmetrix matrix *(15 pts.)*:\n",
    "\n",
    "$ \\begin{equation}\n",
    "{\\bf A} =\n",
    "\\begin{pmatrix}\n",
    "8 & -2 & -20 \\\\\n",
    "-2 & -3 & -9 \\\\\n",
    "-20 & -9 & -3\n",
    "\\end{pmatrix} \\end{equation} $\n",
    "\n",
    "2. Check your answer numerically; that is, check that $\\bf AV = VD$, where the $N$ x $N$ matrix $\\bf V$ has the eigenvectors as its columns and $\\bf D$ is the diagonal matrix with the eigenvalues $\\lambda_i$ as its diagonal entries. *(15 pts.)*"
   ]
  },
  {
   "cell_type": "code",
   "execution_count": 1,
   "metadata": {},
   "outputs": [],
   "source": [
    "import numpy \n",
    "from numpy import array, diag, matmul\n",
    "import numpy.linalg \n",
    "from numpy.linalg import eigh, norm"
   ]
  },
  {
   "cell_type": "code",
   "execution_count": 10,
   "metadata": {
    "id": "GABjwlXCR97i"
   },
   "outputs": [
    {
     "name": "stdout",
     "output_type": "stream",
     "text": [
      "1.\n",
      "The eigenvalues of A: [-21.99606195   0.16021522  23.83584674]\n",
      "\n",
      "The eigenvectors of A:\n",
      "[[ 0.52496527  0.36793396 -0.76748685]\n",
      " [ 0.40892672 -0.89987151 -0.15169114]\n",
      " [ 0.74645187  0.2342133   0.62285932]]\n",
      "\n",
      "2.\n",
      "Using Frobenius norm, the error is approximated to be 4.529625936454272e-14. Since the error value is very small, we can conclude that AV is\n",
      "approximately equal to VD.\n"
     ]
    }
   ],
   "source": [
    "# 1: Finding the eigenvalues and eigenvectors of A\n",
    "\n",
    "A = array([[8, -2, -20], [-2, -3, -9], [-20, -9, -3]])        # defining the matrix A\n",
    "x, V = eigh(A)                                                # finding the eigenvalues and eigenvectors of A (eigh is used since the matrix A is symmetric)\n",
    "\n",
    "print(\"1.\")\n",
    "print(f\"The eigenvalues of A: {x}\")             # displayes the eigenvalues\n",
    "print(\"\")\n",
    "print(\"The eigenvectors of A:\")\n",
    "print(V)                                        # displays the eigenvectors\n",
    "print(\"\")\n",
    "\n",
    "#2: Checking if AV = VD\n",
    "\n",
    "print(\"2.\")\n",
    "D = array(diag(x))                    # defining the matrix D (which has the eigenvalues as the diagonal entries)\n",
    "AV = matmul(A, V)                     # multiplication of matrix A and matrix V\n",
    "VD = matmul(V, D)                     # multiplication of matrix V and matrix D\n",
    "norm1 = norm(AV - VD)                 # finding the norm of AV-VD to calculate the Frobenius norm\n",
    "norm2 = norm(VD)                      # finding the norm of VD to calculate the Frobenius norm\n",
    "error = (norm1 / norm2)*100           # Frobenius norm to calculate error\n",
    "\n",
    "print(f\"Using Frobenius norm, the error is approximated to be {error}. Since the error value is very small, we can conclude that AV is\") \n",
    "print(\"approximately equal to VD.\")"
   ]
  },
  {
   "cell_type": "markdown",
   "metadata": {},
   "source": [
    "<font color=red> Must explain why Frobenius norm was used to verify the numerical correctness of the obtained eigenvalues and eigenvectors. </font>"
   ]
  },
  {
   "cell_type": "markdown",
   "metadata": {},
   "source": [
    "<font color=red>Correctness of Code: 15/15</font> \\\n",
    "<font color=red>Discussion of Code and Results: 12/15 </font>"
   ]
  },
  {
   "cell_type": "markdown",
   "metadata": {
    "id": "HceOjNu-VfN9"
   },
   "source": [
    "### PROBLEM 2\n",
    "\n",
    "**Solve a nonlinear equation using the relaxation method**\n",
    "\n",
    "Consider the equation $x=1- e^{-cx}$, where $c$ is a known parameter and $x$ is unknown. This equation arises in a variety of situations, including the physics of contact processes, mathematical models of epidemics, and the theory of random graphs.\n",
    "\n",
    "1. Write a program to solve this equation for $x$ using the relaxation method for the case $c = 2$. Calculate your solution to an accuracy of at least $10^{-6}$. *(10 pts.)*\n",
    "\n",
    "2. Modify your program to calculate the solution for values of $c$ from 0 to 3 in steps of 0.01. *(10 pts.)*\n",
    "\n",
    "3. Make a plot of $x$ as a function of $c$. Describe the different regimes that you see. *(10 pts.)*"
   ]
  },
  {
   "cell_type": "code",
   "execution_count": 2,
   "metadata": {},
   "outputs": [],
   "source": [
    "import math\n",
    "from math import exp\n",
    "import numpy\n",
    "from numpy import arange\n",
    "import matplotlib.pyplot as plt"
   ]
  },
  {
   "cell_type": "code",
   "execution_count": 3,
   "metadata": {
    "id": "p28JF-OQYock",
    "scrolled": true
   },
   "outputs": [
    {
     "name": "stdout",
     "output_type": "stream",
     "text": [
      "1.\n",
      "When c=2, x = 0.7968126311118457 with an accuracy of at least 10^-6.\n",
      "\n",
      "2.\n"
     ]
    },
    {
     "data": {
      "image/png": "[encoded data removed]",
      "text/plain": [
       "<Figure size 1400x800 with 1 Axes>"
      ]
     },
     "metadata": {},
     "output_type": "display_data"
    }
   ],
   "source": [
    "#1: Finding x when c=2 using the relaxation method \n",
    "\n",
    "def relax(c):                           # defining the relaxation method\n",
    "    x_0 = 1.0                           # estimate (starting value)\n",
    "    x_n = x_0                           # setting x_n to be equal to the starting value\n",
    "    for k in range(1000):               # 1000 is set to be the maximum # of iterations\n",
    "        x = 1 - exp(-c*x_n)             # given equation\n",
    "        if abs(x - x_n) < 1e-6:         # to establish accuracy of at least 10^-6\n",
    "            return x \n",
    "        x_n = x                         # the value of x_n is updated \n",
    "    return x_n \n",
    "c = 2.0                                 # given value of c\n",
    "result_1 = relax(c)                     # sets result_1 as the value of x when c=2 using the defined relaxation method\n",
    "print(\"1.\")\n",
    "print(f\"When c=2, x = {result_1} with an accuracy of at least 10^-6.\")\n",
    "print(\"\")\n",
    "\n",
    "#2: Finding the values of x when c has the values from 0 to 3 in steps of 0.01\n",
    "\n",
    "c_n = arange(0, 3, 0.01)                # c ranges from 0 to 3 in intervals of 0.01\n",
    "values = []                             # empty list to store the values of x\n",
    "for c in c_n:\n",
    "    result_2 = relax(c)                 # sets result_2 as the value of x from the corresponding value of c (using the defined relaxation method)\n",
    "    values.append(result_2)             # adding the value of result_2 to the list entitled \"values\"\n",
    "\n",
    "#3: Plotting x as a function of c\n",
    "print(\"2.\")\n",
    "\n",
    "plt.figure(figsize=(14, 8))                                         # increasing the figure size to explicitly show the values\n",
    "plt.title(\"x as a function of c\")                                   # setting the plot title\n",
    "plt.scatter(c_n, values, color = 'palevioletred', marker = 'x')     # scatter plot of c_n and values\n",
    "plt.xticks(arange(0, 3, 0.1))                                       # setting the ticks in x-axis to range from 0 to 3 in intervals of 0.1\n",
    "plt.yticks(arange(0, 1, 0.1))                                       # setting the ticks in y-axis to range from 0 to 1 in intervals of 0.1\n",
    "plt.xlabel(\"c\")                                                     # setting the label for x-axis \n",
    "plt.ylabel(\"x\")                                                     # setting the label for y-axis \n",
    "plt.grid()                                                          # adds grids to the plot\n",
    "plt.show()                                                          # displays the plot"
   ]
  },
  {
   "cell_type": "markdown",
   "metadata": {},
   "source": [
    "**Discussion of Results**\n",
    "\n",
    "1. When c ranges from 0 to 1, the value of x is constant (approximately 0).\n",
    "2. When c ranges from 1 to 3, the value of x gradually increases and almost approaches 1."
   ]
  },
  {
   "cell_type": "markdown",
   "metadata": {},
   "source": [
    "<font color=red> The description of the change in </font>  $x$  <font color=red> is inaccurate. </font>"
   ]
  },
  {
   "cell_type": "markdown",
   "metadata": {},
   "source": [
    "<font color=red>Correctness of Code: 15/15</font> \\\n",
    "<font color=red>Discussion of Code and Results: 12/15 </font>"
   ]
  },
  {
   "cell_type": "markdown",
   "metadata": {
    "id": "BY5x-mZsYoqG"
   },
   "source": [
    "### PROBLEM 3\n",
    "\n",
    "**Physics Application: Calculating the Lagrange point**\n",
    "\n",
    "_Refer to Exercise 6.16 of the Newman text._ The $L_1$ Lagrange point is the point between the Earth and the Moon at which a satellite will orbit the Earth in perfect synchrony with the Moon, staying always in between the two.\n",
    "\n",
    "Assuming circular orbits, and assuming that the Earth is much more massive than either the Moon or the satellite, the distance $r$ from the center of the Earth to the $L_1$ point satisfies\n",
    "$$ \\begin{equation}\n",
    "\\frac{GM}{r^2} - \\frac{Gm}{(R-r)^2} = \\omega^2 r,\n",
    "\\end{equation} $$\n",
    "where $R$ is the distance from the Earth to the Moon, $M$ and $m$ are the Earth and Moon masses, $G$ is Newton's gravitational constant, and $\\omega$ is the angular velocity of both the Moon and the satellite."
   ]
  },
  {
   "cell_type": "markdown",
   "metadata": {
    "id": "LlDDXIZ46CKU"
   },
   "source": [
    "Use Newton's method to solve for the distance r from the Earth to the $L_1$ point. Compute a solution accurate to at least four significant figures."
   ]
  },
  {
   "cell_type": "code",
   "execution_count": 4,
   "metadata": {},
   "outputs": [
    {
     "name": "stdout",
     "output_type": "stream",
     "text": [
      "The distance r from the Earth to the L_1 point is 326045071.665357, accurate to at least 4 siginificant figures.\n"
     ]
    }
   ],
   "source": [
    "# Values of constants\n",
    "G = 6.674 * 1e-11       # Newton's gravitational constant [units: (m**3)*(kg**-1)*(s**-2)]\n",
    "M = 5.974 * 1e24        # Earth's mass [units: kg]\n",
    "m = 7.348 * 1e22        # Moon's mass [units: kg]\n",
    "R = 3.844 * 1e8         # Distance from the Earth to the Moon [units: m]\n",
    "w = 2.662 * 1e-6        # Angular velocity of both the moon and the satellite [units: (s**-1)]\n",
    "\n",
    "# Defining Newton's method \n",
    "def newton(func, funcderiv, r_n):    # function for Newton's method with 3 entries (func=function, funcderiv=derivative of function, r_n=estimate value of r)\n",
    "    def f(r_n):                      # defining function f using func\n",
    "        f = eval(func)\n",
    "        return f\n",
    "        \n",
    "    def df(r_n):                     # defining function df using funcderiv\n",
    "        df = eval(funcderiv)\n",
    "        return df\n",
    "\n",
    "    r_0 = r_n                            # setting r_0 to be equal to the estimate value\n",
    "    r = r_n - (f(r_n)/df(r_n))           # formula for Newton's method\n",
    "    while abs(r - r_0) > 1e4:            # to establish accuracy of at least 4 sig figs\n",
    "        r, r_0 = r - (f(r)/df(r)), r     # updates the values of r and r_0\n",
    "    return r\n",
    "    \n",
    "# Finding r using Newton's Method using the given function with r_n = 3e6 (in the interval [0,R], but is closer to R)\n",
    "result = newton(\"(G*M*((r_n)**-2) - G*m*((R-r_n)**-2) - (w**2)*r_n)\", \"(-2*G*M*((r_n)**-3) - 2*G*m*((R-r_n)**-3) - w**2)\", 3e6)\n",
    "print(f\"The distance r from the Earth to the L_1 point is {result}, accurate to at least 4 siginificant figures.\")"
   ]
  },
  {
   "cell_type": "markdown",
   "metadata": {},
   "source": [
    "<font color=red> The reported answer lacks the appropriate physical units. </font>"
   ]
  },
  {
   "cell_type": "markdown",
   "metadata": {},
   "source": [
    "<font color=red>Correctness of Code: 20/20 </font> \\\n",
    "<font color=red>Discussion of Code and Results: 16/20 </font>"
   ]
  }
 ],
 "metadata": {
  "colab": {
   "provenance": [
    {
     "file_id": "1FJlZnhC4nq-8ag5P6s8R5x9AryccJwSV",
     "timestamp": 1598775074680
    }
   ]
  },
  "kernelspec": {
   "display_name": "base",
   "language": "python",
   "name": "python3"
  },
  "language_info": {
   "codemirror_mode": {
    "name": "ipython",
    "version": 3
   },
   "file_extension": ".py",
   "mimetype": "text/x-python",
   "name": "python",
   "nbconvert_exporter": "python",
   "pygments_lexer": "ipython3",
   "version": "3.12.2"
  }
 },
 "nbformat": 4,
 "nbformat_minor": 4
}
